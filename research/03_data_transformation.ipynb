{
 "cells": [
  {
   "cell_type": "code",
   "execution_count": 1,
   "metadata": {},
   "outputs": [],
   "source": [
    "import os"
   ]
  },
  {
   "cell_type": "code",
   "execution_count": 2,
   "metadata": {},
   "outputs": [
    {
     "data": {
      "text/plain": [
       "'e:\\\\Data_Science_Project\\\\StockScout\\\\research'"
      ]
     },
     "execution_count": 2,
     "metadata": {},
     "output_type": "execute_result"
    }
   ],
   "source": [
    "%pwd"
   ]
  },
  {
   "cell_type": "code",
   "execution_count": 3,
   "metadata": {},
   "outputs": [],
   "source": [
    "os.chdir(\"../\")"
   ]
  },
  {
   "cell_type": "code",
   "execution_count": 4,
   "metadata": {},
   "outputs": [
    {
     "data": {
      "text/plain": [
       "'e:\\\\Data_Science_Project\\\\StockScout'"
      ]
     },
     "execution_count": 4,
     "metadata": {},
     "output_type": "execute_result"
    }
   ],
   "source": [
    "%pwd"
   ]
  },
  {
   "cell_type": "code",
   "execution_count": 5,
   "metadata": {},
   "outputs": [],
   "source": [
    "from dataclasses import dataclass\n",
    "from pathlib import Path\n",
    "\n",
    "\n",
    "@dataclass(frozen=True)\n",
    "class DataTransformationConfig:\n",
    "    root_dir: Path\n",
    "    data_path: Path\n",
    "    scaled_data_file: Path\n",
    "    scaler_file_path: Path"
   ]
  },
  {
   "cell_type": "code",
   "execution_count": 6,
   "metadata": {},
   "outputs": [],
   "source": [
    "from src.StockScout.constants import *\n",
    "from src.StockScout.utils.common import read_yaml,create_directories\n",
    "\n",
    "class ConfigurationManager:\n",
    "    def __init__(\n",
    "        self,\n",
    "        config_filepath = CONFIG_FILE_PATH,\n",
    "        params_filepath = PARAMS_FILE_PATH,\n",
    "        schema_filepath = SCHEMA_FILE_PATH):\n",
    "\n",
    "        self.config = read_yaml(config_filepath)\n",
    "        self.params = read_yaml(params_filepath)\n",
    "        self.schema = read_yaml(schema_filepath)\n",
    "\n",
    "        create_directories([self.config.artifacts_root])\n",
    "\n",
    "    \n",
    "    def get_data_transformation_config(self) -> DataTransformationConfig:\n",
    "        config = self.config.data_transformation\n",
    "\n",
    "        create_directories([config.root_dir])\n",
    "\n",
    "        data_transformation_config = DataTransformationConfig(\n",
    "            root_dir=config.root_dir,\n",
    "            data_path=config.data_path,\n",
    "            scaled_data_file=config.scaled_data_file,\n",
    "            scaler_file_path=config.scaler_file_path\n",
    "        )\n",
    "\n",
    "        return data_transformation_config"
   ]
  },
  {
   "cell_type": "code",
   "execution_count": 7,
   "metadata": {},
   "outputs": [],
   "source": [
    "from sklearn.preprocessing import StandardScaler\n",
    "import pandas as pd \n",
    "from src.StockScout import logger\n",
    "import numpy as np\n",
    "from joblib import dump\n",
    "\n",
    "class DataTransformation:\n",
    "    def __init__(self, config: DataTransformationConfig):\n",
    "        self.config = config\n",
    "\n",
    "    def TestDataStacking(self,scaled_data,training_data_len,df):\n",
    "\n",
    "        test_data = scaled_data[training_data_len - 100: , :]\n",
    "        # Create the data sets x_test and y_test\n",
    "        X_test = []\n",
    "        y_test = df[training_data_len:]\n",
    "        for i in range(100, len(test_data)):\n",
    "            X_test.append(test_data[i-100:i, 0])\n",
    "            \n",
    "        # Convert the data to a numpy array\n",
    "        X_test = np.array(X_test)\n",
    "\n",
    "        # Reshape the data\n",
    "        X_test = np.reshape(X_test, (X_test.shape[0], X_test.shape[1], 1 ))\n",
    "\n",
    "        np.save(os.path.join(self.config.root_dir,\"X_test.npy\"),X_test)\n",
    "        np.save(os.path.join(self.config.root_dir,\"y_test.npy\"),y_test.values)\n",
    "        logger.info(\"test data stacking completed\")\n",
    "\n",
    "\n",
    "    def TrainDataStacking(self,scaled_data,training_data_len):\n",
    "\n",
    "        train_data = scaled_data[0:training_data_len, :]\n",
    "        # Split the data into x_train and y_train data sets\n",
    "        X_train = []\n",
    "        y_train = []\n",
    "\n",
    "        for i in range(100, len(train_data)):\n",
    "            X_train.append(train_data[i-100:i, 0])\n",
    "            y_train.append(train_data[i, 0])\n",
    "\n",
    "        # Convert the x_train and y_train to numpy arrays \n",
    "        X_train, y_train = np.array(X_train), np.array(y_train)\n",
    "\n",
    "        # Reshape the data\n",
    "        X_train = np.reshape(X_train, (X_train.shape[0], X_train.shape[1], 1))\n",
    "\n",
    "        np.save(os.path.join(self.config.root_dir,\"X_train.npy\"),X_train)\n",
    "        np.save(os.path.join(self.config.root_dir,\"y_train.npy\"),y_train)\n",
    "        logger.info(\"train data stacking completed\")\n",
    "\n",
    "\n",
    "\n",
    "    def StandardScaling(self,data):\n",
    "        logger.info(\"data scaling started\")\n",
    "        scaler = StandardScaler()\n",
    "        scaled_data = scaler.fit_transform(data)\n",
    "        logger.info(f\"data scaling completed and shape of data : {scaled_data.shape}\")\n",
    "        np.save(self.config.scaled_data_file,scaled_data)\n",
    "        logger.info(f\"scaled data stored at {self.config.scaled_data_file}\")\n",
    "        dump(scaler,self.config.scaler_file_path)\n",
    "        return scaled_data\n",
    "\n",
    "    def DataTransformation(self):\n",
    "\n",
    "        data = pd.read_csv(self.config.data_path,index_col='Date')\n",
    "\n",
    "        scaled_data = self.StandardScaling(data)\n",
    "\n",
    "        test_data_len = np.ceil(len(scaled_data)*0.2)\n",
    "        if test_data_len > 200:\n",
    "            test_data_len = 200\n",
    "        train_data_len = len(scaled_data) - test_data_len\n",
    "        logger.info(f\"length of train data is {train_data_len}\")\n",
    "        logger.info(f\"length of test data is {test_data_len}\")\n",
    "\n",
    "        self.TrainDataStacking(scaled_data,train_data_len)\n",
    "        self.TestDataStacking(scaled_data,train_data_len,data)\n",
    "\n",
    "        \n"
   ]
  },
  {
   "cell_type": "code",
   "execution_count": 8,
   "metadata": {},
   "outputs": [
    {
     "name": "stdout",
     "output_type": "stream",
     "text": [
      "[2025-01-28 19:03:46,289: INFO: common: yaml file: config\\config.yaml loaded successfully]\n",
      "[2025-01-28 19:03:46,293: INFO: common: yaml file: params.yaml loaded successfully]\n",
      "[2025-01-28 19:03:46,296: INFO: common: yaml file: schema.yaml loaded successfully]\n",
      "[2025-01-28 19:03:46,298: INFO: common: created directory at: artifacts]\n",
      "[2025-01-28 19:03:46,300: INFO: common: created directory at: artifacts/data_transformation]\n",
      "[2025-01-28 19:03:46,348: INFO: 1998999473: data scaling started]\n",
      "[2025-01-28 19:03:46,355: INFO: 1998999473: data scaling completed and shape of data : (3538, 1)]\n",
      "[2025-01-28 19:03:46,359: INFO: 1998999473: scaled data stored at artifacts/data_transformation/scaled_data.npy]\n",
      "[2025-01-28 19:03:46,365: INFO: 1998999473: length of train data is 3338]\n",
      "[2025-01-28 19:03:46,366: INFO: 1998999473: length of test data is 200]\n",
      "[2025-01-28 19:03:46,378: INFO: 1998999473: train data stacking completed]\n",
      "[2025-01-28 19:03:46,385: INFO: 1998999473: test data stacking completed]\n"
     ]
    }
   ],
   "source": [
    "try:\n",
    "    config = ConfigurationManager()\n",
    "    data_transformation_config = config.get_data_transformation_config()\n",
    "    data_transformation = DataTransformation(config=data_transformation_config)\n",
    "    data_transformation.DataTransformation()\n",
    "except Exception as e:\n",
    "    raise e"
   ]
  },
  {
   "cell_type": "code",
   "execution_count": null,
   "metadata": {},
   "outputs": [],
   "source": []
  }
 ],
 "metadata": {
  "kernelspec": {
   "display_name": "ss",
   "language": "python",
   "name": "python3"
  },
  "language_info": {
   "codemirror_mode": {
    "name": "ipython",
    "version": 3
   },
   "file_extension": ".py",
   "mimetype": "text/x-python",
   "name": "python",
   "nbconvert_exporter": "python",
   "pygments_lexer": "ipython3",
   "version": "3.11.4"
  }
 },
 "nbformat": 4,
 "nbformat_minor": 2
}

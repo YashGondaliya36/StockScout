{
 "cells": [
  {
   "cell_type": "code",
   "execution_count": 1,
   "metadata": {},
   "outputs": [],
   "source": [
    "import os"
   ]
  },
  {
   "cell_type": "code",
   "execution_count": 2,
   "metadata": {},
   "outputs": [],
   "source": [
    "os.chdir(\"../\")"
   ]
  },
  {
   "cell_type": "code",
   "execution_count": 3,
   "metadata": {},
   "outputs": [],
   "source": [
    "from dataclasses import dataclass\n",
    "from pathlib import Path\n",
    "\n",
    "\n",
    "@dataclass(frozen=True)\n",
    "class PartialModelTrainerConfig:\n",
    "    root_dir: Path\n",
    "    X_train_data_path: Path\n",
    "    y_train_data_path: Path\n",
    "    partial_model_name: str"
   ]
  },
  {
   "cell_type": "code",
   "execution_count": 4,
   "metadata": {},
   "outputs": [],
   "source": [
    "from src.StockScout.constants import *\n",
    "from src.StockScout.utils.common import read_yaml, create_directories\n",
    "\n",
    "class ConfigurationManager:\n",
    "    def __init__(\n",
    "        self,\n",
    "        config_filepath = CONFIG_FILE_PATH,\n",
    "        params_filepath = PARAMS_FILE_PATH,\n",
    "        schema_filepath = SCHEMA_FILE_PATH):\n",
    "\n",
    "        self.config = read_yaml(config_filepath)\n",
    "        self.params = read_yaml(params_filepath)\n",
    "        self.schema = read_yaml(schema_filepath)\n",
    "\n",
    "        create_directories([self.config.artifacts_root])\n",
    "\n",
    "\n",
    "    def get_partial_model_trainer_config(self) -> PartialModelTrainerConfig:\n",
    "        config = self.config.partial_model_trainer\n",
    "\n",
    "        create_directories([config.root_dir])\n",
    "\n",
    "        partial_model_trainer_config = PartialModelTrainerConfig(\n",
    "            root_dir=config.root_dir,\n",
    "            X_train_data_path = config.X_train_data_path,\n",
    "            y_train_data_path = config.y_train_data_path,\n",
    "            partial_model_name = config.partial_model_name\n",
    "        )\n",
    "\n",
    "        return partial_model_trainer_config"
   ]
  },
  {
   "cell_type": "code",
   "execution_count": 5,
   "metadata": {},
   "outputs": [],
   "source": [
    "from tensorflow.keras.models import Sequential\n",
    "from tensorflow.keras.layers import LSTM, Dense\n",
    "from tensorflow.keras.callbacks import ReduceLROnPlateau\n",
    "import tensorflow as tf\n",
    "from src.StockScout import logger\n",
    "import numpy as np\n",
    "\n",
    "\n",
    "class PartialModelTrainer:\n",
    "    def __init__(self, config: PartialModelTrainerConfig):\n",
    "        self.config = config\n",
    "\n",
    "    \n",
    "    def build_lstm_model(self,input_shape, lstm_units=[50, 50, 50], dense_units=1, optimizer='adam', loss='mean_squared_error'):\n",
    "        model = Sequential()\n",
    "\n",
    "        for i, units in enumerate(lstm_units):\n",
    "            if i == 0:\n",
    "                model.add(LSTM(units=units, return_sequences=True, input_shape=input_shape))\n",
    "            else:\n",
    "                model.add(LSTM(units=units, return_sequences=(i < len(lstm_units)-1)))\n",
    "\n",
    "        model.add(Dense(units=dense_units))\n",
    "\n",
    "        model.compile(optimizer=optimizer, loss=loss)\n",
    "        logger.info(\"model built succesfully\")\n",
    "        return model\n",
    "\n",
    "\n",
    "\n",
    "\n",
    "    def partial_train(self):\n",
    "\n",
    "        np.random.seed(42)\n",
    "        tf.random.set_seed(42)\n",
    "        \n",
    "        # Assuming x_train.shape[1] is the time steps and 1 is the feature dimension\n",
    "        X_train = np.load(self.config.X_train_data_path)\n",
    "        y_train = np.load(self.config.y_train_data_path)\n",
    "    \n",
    "        input_shape = (X_train.shape[1], 1)\n",
    "     \n",
    "        # Define LSTM model with specified architecture\n",
    "        lstm_model = self.build_lstm_model(input_shape=input_shape)\n",
    "        lr_callback = ReduceLROnPlateau(monitor='loss', factor=0.2, patience=2) \n",
    "        # Train the model\n",
    "        logger.info(\"partial model training started\")\n",
    "        lstm_model.fit(X_train, y_train, epochs=1, batch_size=32, callbacks=[lr_callback])\n",
    "        lstm_model.save(self.config.partial_model_name)\n",
    "        logger.info(f\"partial model trainned and save at {self.config.partial_model_name}\")"
   ]
  },
  {
   "cell_type": "code",
   "execution_count": 6,
   "metadata": {},
   "outputs": [
    {
     "name": "stdout",
     "output_type": "stream",
     "text": [
      "[2025-01-29 18:33:43,343: INFO: common: yaml file: config\\config.yaml loaded successfully]\n",
      "[2025-01-29 18:33:43,351: INFO: common: yaml file: params.yaml loaded successfully]\n",
      "[2025-01-29 18:33:43,355: INFO: common: yaml file: schema.yaml loaded successfully]\n",
      "[2025-01-29 18:33:43,360: INFO: common: created directory at: artifacts]\n",
      "[2025-01-29 18:33:43,366: INFO: common: created directory at: artifacts/partial_model_trainer]\n",
      "[2025-01-29 18:33:46,341: INFO: 550911150: model built succesfully]\n",
      "[2025-01-29 18:33:46,346: INFO: 550911150: partial model training started]\n",
      "102/102 [==============================] - 36s 157ms/step - loss: 0.0467 - lr: 0.0010\n",
      "[2025-01-29 18:34:22,525: INFO: 550911150: partial model trainned and save at artifacts/partial_model_trainer/partial_model.h5]\n"
     ]
    },
    {
     "name": "stderr",
     "output_type": "stream",
     "text": [
      "e:\\Data_Science_Project\\StockScout\\ss\\Lib\\site-packages\\keras\\src\\engine\\training.py:3000: UserWarning: You are saving your model as an HDF5 file via `model.save()`. This file format is considered legacy. We recommend using instead the native Keras format, e.g. `model.save('my_model.keras')`.\n",
      "  saving_api.save_model(\n"
     ]
    }
   ],
   "source": [
    "try:\n",
    "    config = ConfigurationManager()\n",
    "    partial_model_trainer_config = config.get_partial_model_trainer_config()\n",
    "    partial_model_trainer_config = PartialModelTrainer(partial_model_trainer_config)\n",
    "    partial_model_trainer_config.partial_train()\n",
    "except Exception as e:\n",
    "    raise e\n"
   ]
  },
  {
   "cell_type": "code",
   "execution_count": null,
   "metadata": {},
   "outputs": [],
   "source": []
  }
 ],
 "metadata": {
  "kernelspec": {
   "display_name": "ss",
   "language": "python",
   "name": "python3"
  },
  "language_info": {
   "codemirror_mode": {
    "name": "ipython",
    "version": 3
   },
   "file_extension": ".py",
   "mimetype": "text/x-python",
   "name": "python",
   "nbconvert_exporter": "python",
   "pygments_lexer": "ipython3",
   "version": "3.11.4"
  }
 },
 "nbformat": 4,
 "nbformat_minor": 2
}
